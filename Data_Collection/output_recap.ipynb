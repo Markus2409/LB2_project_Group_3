{
 "cells": [
  {
   "cell_type": "markdown",
   "id": "0d1481a8-9b77-43f7-acfe-c0c67f1151b0",
   "metadata": {},
   "source": [
    "### Short script to visualize results"
   ]
  },
  {
   "cell_type": "code",
   "execution_count": 6,
   "id": "341b9bba-80e1-464c-aa6d-793f629b53a5",
   "metadata": {},
   "outputs": [
    {
     "name": "stdout",
     "output_type": "stream",
     "text": [
      "2932 All positives. \n",
      "20615 All negatives. \n",
      "4414 Negatives with transmembrane within the first 90 residues. \n"
     ]
    }
   ],
   "source": [
    "import pandas as pd\n",
    "\n",
    "negative_set = pd.read_csv(\"negative_dataset.tsv\", sep=\"\\t\")\n",
    "positive_set = pd.read_csv(\"positive_dataset.tsv\", sep=\"\\t\")\n",
    "\n",
    "print(len(positive_set), \"All positives. \")\n",
    "print(len(negative_set), \"All negatives. \")\n",
    "print(len(negative_set[negative_set[\"HelixDomain\"] == True]), \"Negatives with transmembrane within the first 90 residues. \")"
   ]
  }
 ],
 "metadata": {
  "kernelspec": {
   "display_name": "Python 3 (ipykernel)",
   "language": "python",
   "name": "python3"
  },
  "language_info": {
   "codemirror_mode": {
    "name": "ipython",
    "version": 3
   },
   "file_extension": ".py",
   "mimetype": "text/x-python",
   "name": "python",
   "nbconvert_exporter": "python",
   "pygments_lexer": "ipython3",
   "version": "3.12.9"
  }
 },
 "nbformat": 4,
 "nbformat_minor": 5
}
