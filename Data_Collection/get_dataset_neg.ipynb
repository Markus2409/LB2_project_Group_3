{
  "cells": [
    {
      "cell_type": "code",
      "execution_count": 1,
      "metadata": {
        "id": "vN-bZzO7DqRl"
      },
      "outputs": [],
      "source": [
        "import requests\n",
        "from requests.adapters import HTTPAdapter, Retry\n",
        "import json\n",
        "import re"
      ]
    },
    {
      "cell_type": "markdown",
      "metadata": {
        "id": "ISIx_iL2DqRo"
      },
      "source": [
        "### 1. Configure retry strategy to handle temporary errors"
      ]
    },
    {
      "cell_type": "code",
      "execution_count": 2,
      "metadata": {
        "id": "SQKf_LzPDqRp"
      },
      "outputs": [],
      "source": [
        "retries = Retry(total=5, backoff_factor=0.25, status_forcelist=[500, 502, 503, 504])\n",
        "session = requests.Session()\n",
        "session.mount(\"https://\", HTTPAdapter(max_retries=retries))"
      ]
    },
    {
      "cell_type": "markdown",
      "metadata": {
        "id": "PvPcWGkHDqRq"
      },
      "source": [
        "### 2. Definition of batch size and the url from which recover the information"
      ]
    },
    {
      "cell_type": "code",
      "execution_count": 3,
      "metadata": {
        "id": "U6NJOWYYDqRr"
      },
      "outputs": [],
      "source": [
        "def get_next_link(headers):\n",
        "\n",
        "    ''' function to get the link for the next batch of entries, the function terminates when the link is not found'''\n",
        "\n",
        "    if \"Link\" in headers:\n",
        "        # The regular expression is used to extract the next link for pagination\n",
        "        re_next_link = re.compile(r'<(.+)>; rel=\"next\"')\n",
        "        match = re_next_link.match(headers[\"Link\"])\n",
        "        if match:\n",
        "            return match.group(1)\n",
        "\n",
        "def get_batch(batch_url):\n",
        "\n",
        "    '''generator function that yields each batch generated with the current API call link '''\n",
        "\n",
        "    while batch_url:\n",
        "        # Run the API call\n",
        "        response = session.get(batch_url)\n",
        "        # Will raise an error if an error status code is obtained\n",
        "        response.raise_for_status()\n",
        "        # Get the total number of entries in the search\n",
        "        total = response.headers[\"x-total-results\"]\n",
        "        # Yield the response and the total number of entries\n",
        "        yield response, total\n",
        "        # Get the link to the API call for the next data batch\n",
        "        batch_url = get_next_link(response.headers)\n",
        "\n",
        "batch_size = 500\n",
        "url_neg = \"https://rest.uniprot.org/uniprotkb/search?format=json&query=%28%28fragment%3Afalse%29+AND+%28length%3A%5B40+TO+*%5D%29+AND+%28taxonomy_id%3A2759%29+NOT+%28ft_signal%3A*%29+AND+%28%28cc_scl_term_exp%3ASL-0091%29+OR+%28cc_scl_term_exp%3ASL-0191%29+OR+%28cc_scl_term_exp%3ASL-0173%29+OR+%28cc_scl_term_exp%3ASL-0209%29+OR+%28cc_scl_term_exp%3ASL-0204%29+OR+%28cc_scl_term_exp%3ASL-0039%29%29+AND+%28reviewed%3Atrue%29+AND+%28existence%3A1%29%29&size=500\"\n",
        "output_file = \"negative_dataset.tsv\"\n",
        "output_fasta_file=\"negative_dataset.fasta\""
      ]
    },
    {
      "cell_type": "markdown",
      "metadata": {
        "id": "T5WHjrYdDqRs"
      },
      "source": [
        "### 3. Extracting data of interest from each entry. No filtering is needed"
      ]
    },
    {
      "cell_type": "code",
      "execution_count": 4,
      "metadata": {
        "id": "591ir4dTZdUz"
      },
      "outputs": [],
      "source": [
        "def extract_fields(entry):\n",
        "\n",
        "    '''function to extract the fields of interest from the JSON of each entry '''\n",
        "\n",
        "    pa = entry[\"primaryAccession\"]\n",
        "    name = entry[\"organism\"][\"scientificName\"]\n",
        "    lin = entry[\"organism\"][\"lineage\"][1]\n",
        "    lenn = entry[\"sequence\"][\"length\"]\n",
        "    hel = \"False\"\n",
        "    for feature in entry[\"features\"]:\n",
        "        if feature[\"type\"] == \"Helix\":\n",
        "            if feature[\"location\"][\"start\"][\"value\"] < 90:\n",
        "                hel = \"True\"\n",
        "                break\n",
        "    return (pa , name , lin , lenn , hel)"
      ]
    },
    {
      "cell_type": "markdown",
      "metadata": {
        "id": "QLsY9aKaDqRt"
      },
      "source": [
        "## 4. Define dataset creation: apply filters, extract fields, and save results in a TSV file and FASTA file respectively"
      ]
    },
    {
      "cell_type": "code",
      "execution_count": 5,
      "metadata": {
        "id": "39UIvOkJDqRu"
      },
      "outputs": [],
      "source": [
        "def get_dataset(search_url, extract_function, output_file_name,output_fasta_file_name):\n",
        "    '''function to get the entire dataset. It uses all the previous functions '''\n",
        "    dataset_json = []\n",
        "    n_total = 0\n",
        "    intestation=(\"EntryID\",\"OrganismName\",\"Kingdom\",\"SequenceLength\",\"HelixDomain\")\n",
        "    with open(output_fasta_file_name,\"w\") as ofs_fasta:\n",
        "      for batch, total in get_batch(search_url):\n",
        "          batch_json = json.loads(batch.text)\n",
        "          print(\"Status code:\", batch.status_code)\n",
        "          print(\"Content-Type:\", batch.headers.get(\"Content-Type\"))\n",
        "          print(\"Text preview:\", batch.text[:200])\n",
        "          for entry in batch_json[\"results\"]:\n",
        "                n_total += 1\n",
        "                dataset_json.append(extract_function(entry))\n",
        "                print(\">\"+entry[\"primaryAccession\"],file=ofs_fasta)\n",
        "                print(entry[\"sequence\"][\"value\"],file=ofs_fasta)\n",
        "    ofs_fasta.close\n",
        "    print(n_total)\n",
        "    with open(output_file_name, \"w\") as ofs:\n",
        "        print(*intestation, sep=\"\\t\", file=ofs)\n",
        "        for entry in dataset_json:\n",
        "            print(*entry, sep=\"\\t\", file=ofs)\n",
        "        ofs.close\n"
      ]
    },
    {
      "cell_type": "code",
      "execution_count": null,
      "metadata": {
        "colab": {
          "base_uri": "https://localhost:8080/"
        },
        "id": "Pp9a1AGXDqRu",
        "outputId": "2d32683e-b15c-4c5e-a4a3-5c6c244dd54e"
      },
      "outputs": [
        {
          "output_type": "stream",
          "name": "stdout",
          "text": [
            "Status code: 200\n",
            "Content-Type: application/json\n",
            "Text preview: {\"results\":[{\"entryType\":\"UniProtKB reviewed (Swiss-Prot)\",\"primaryAccession\":\"Q6YN16\",\"secondaryAccessions\":[\"A8K1L4\",\"A8K8X1\",\"A8MSV3\",\"Q658M8\",\"Q9BT58\"],\"uniProtkbId\":\"HSDL2_HUMAN\",\"entryAudit\":{\"f\n",
            "Status code: 200\n",
            "Content-Type: application/json\n",
            "Text preview: {\"results\":[{\"entryType\":\"UniProtKB reviewed (Swiss-Prot)\",\"primaryAccession\":\"P0C7P0\",\"uniProtkbId\":\"CISD3_HUMAN\",\"entryAudit\":{\"firstPublicDate\":\"2008-06-10\",\"lastAnnotationUpdateDate\":\"2025-06-18\",\n",
            "Status code: 200\n",
            "Content-Type: application/json\n",
            "Text preview: {\"results\":[{\"entryType\":\"UniProtKB reviewed (Swiss-Prot)\",\"primaryAccession\":\"P54098\",\"secondaryAccessions\":[\"Q8NFM2\",\"Q92515\"],\"uniProtkbId\":\"DPOG1_HUMAN\",\"entryAudit\":{\"firstPublicDate\":\"1996-10-01\n",
            "Status code: 200\n",
            "Content-Type: application/json\n",
            "Text preview: {\"results\":[{\"entryType\":\"UniProtKB reviewed (Swiss-Prot)\",\"primaryAccession\":\"O95243\",\"secondaryAccessions\":[\"B4DZN2\",\"D3DNC3\",\"D3DNC4\",\"E9PEE4\",\"Q2MD36\",\"Q7Z4T3\",\"Q96F09\"],\"uniProtkbId\":\"MBD4_HUMAN\"\n",
            "Status code: 200\n",
            "Content-Type: application/json\n",
            "Text preview: {\"results\":[{\"entryType\":\"UniProtKB reviewed (Swiss-Prot)\",\"primaryAccession\":\"P35398\",\"secondaryAccessions\":[\"P35397\",\"P35399\",\"P45445\",\"Q495X4\",\"Q96H83\"],\"uniProtkbId\":\"RORA_HUMAN\",\"entryAudit\":{\"fi\n",
            "Status code: 200\n",
            "Content-Type: application/json\n",
            "Text preview: {\"results\":[{\"entryType\":\"UniProtKB reviewed (Swiss-Prot)\",\"primaryAccession\":\"Q8NB14\",\"secondaryAccessions\":[\"B3KX93\",\"Q3ZCV1\",\"Q8NDF5\",\"Q96DK6\",\"Q96PZ6\",\"Q9BY55\"],\"uniProtkbId\":\"UBP38_HUMAN\",\"entryA\n",
            "Status code: 200\n",
            "Content-Type: application/json\n",
            "Text preview: {\"results\":[{\"entryType\":\"UniProtKB reviewed (Swiss-Prot)\",\"primaryAccession\":\"Q6ZSB9\",\"secondaryAccessions\":[\"A8K936\",\"Q32ML0\",\"Q59FJ4\",\"Q5EBN0\",\"Q8TB80\"],\"uniProtkbId\":\"ZBT49_HUMAN\",\"entryAudit\":{\"f\n",
            "Status code: 200\n",
            "Content-Type: application/json\n",
            "Text preview: {\"results\":[{\"entryType\":\"UniProtKB reviewed (Swiss-Prot)\",\"primaryAccession\":\"O75934\",\"secondaryAccessions\":[\"Q6FGS0\"],\"uniProtkbId\":\"SPF27_HUMAN\",\"entryAudit\":{\"firstPublicDate\":\"2005-05-10\",\"lastAn\n",
            "Status code: 200\n",
            "Content-Type: application/json\n",
            "Text preview: {\"results\":[{\"entryType\":\"UniProtKB reviewed (Swiss-Prot)\",\"primaryAccession\":\"O43390\",\"secondaryAccessions\":[\"Q2L7G6\",\"Q5TEH1\",\"Q9BV64\",\"S4R3J4\"],\"uniProtkbId\":\"HNRPR_HUMAN\",\"entryAudit\":{\"firstPubli\n",
            "Status code: 200\n",
            "Content-Type: application/json\n",
            "Text preview: {\"results\":[{\"entryType\":\"UniProtKB reviewed (Swiss-Prot)\",\"primaryAccession\":\"Q4KMQ2\",\"secondaryAccessions\":[\"A6NNM6\",\"B9EGG0\",\"E7ENK4\",\"E9PB30\",\"E9PCT2\",\"Q8N3Q2\"],\"uniProtkbId\":\"ANO6_HUMAN\",\"entryAu\n",
            "Status code: 200\n",
            "Content-Type: application/json\n",
            "Text preview: {\"results\":[{\"entryType\":\"UniProtKB reviewed (Swiss-Prot)\",\"primaryAccession\":\"P53985\",\"secondaryAccessions\":[\"Q49A45\",\"Q5T8R6\",\"Q9NSJ9\"],\"uniProtkbId\":\"MOT1_HUMAN\",\"entryAudit\":{\"firstPublicDate\":\"19\n",
            "Status code: 200\n",
            "Content-Type: application/json\n",
            "Text preview: {\"results\":[{\"entryType\":\"UniProtKB reviewed (Swiss-Prot)\",\"primaryAccession\":\"O35864\",\"secondaryAccessions\":[\"Q3UA70\",\"Q8C1S1\"],\"uniProtkbId\":\"CSN5_MOUSE\",\"entryAudit\":{\"firstPublicDate\":\"2004-11-23\"\n",
            "Status code: 200\n",
            "Content-Type: application/json\n",
            "Text preview: {\"results\":[{\"entryType\":\"UniProtKB reviewed (Swiss-Prot)\",\"primaryAccession\":\"P41181\",\"secondaryAccessions\":[\"Q9UD68\"],\"uniProtkbId\":\"AQP2_HUMAN\",\"entryAudit\":{\"firstPublicDate\":\"1995-02-01\",\"lastAnn\n",
            "Status code: 200\n",
            "Content-Type: application/json\n",
            "Text preview: {\"results\":[{\"entryType\":\"UniProtKB reviewed (Swiss-Prot)\",\"primaryAccession\":\"Q9QYB1\",\"secondaryAccessions\":[\"Q8BMG5\"],\"uniProtkbId\":\"CLIC4_MOUSE\",\"entryAudit\":{\"firstPublicDate\":\"2002-10-19\",\"lastAn\n",
            "Status code: 200\n",
            "Content-Type: application/json\n",
            "Text preview: {\"results\":[{\"entryType\":\"UniProtKB reviewed (Swiss-Prot)\",\"primaryAccession\":\"O04200\",\"secondaryAccessions\":[\"Q8L9P5\"],\"uniProtkbId\":\"PXN_ARATH\",\"entryAudit\":{\"firstPublicDate\":\"2013-01-09\",\"lastAnno\n",
            "Status code: 200\n",
            "Content-Type: application/json\n",
            "Text preview: {\"results\":[{\"entryType\":\"UniProtKB reviewed (Swiss-Prot)\",\"primaryAccession\":\"O61660\",\"secondaryAccessions\":[\"Q9U223\"],\"uniProtkbId\":\"TOP3_CAEEL\",\"entryAudit\":{\"firstPublicDate\":\"2000-05-30\",\"lastAnn\n",
            "Status code: 200\n",
            "Content-Type: application/json\n",
            "Text preview: {\"results\":[{\"entryType\":\"UniProtKB reviewed (Swiss-Prot)\",\"primaryAccession\":\"P42774\",\"secondaryAccessions\":[\"Q940I9\",\"Q944J1\",\"Q96263\"],\"uniProtkbId\":\"GBF1_ARATH\",\"entryAudit\":{\"firstPublicDate\":\"19\n",
            "Status code: 200\n",
            "Content-Type: application/json\n",
            "Text preview: {\"results\":[{\"entryType\":\"UniProtKB reviewed (Swiss-Prot)\",\"primaryAccession\":\"Q5UG13\",\"secondaryAccessions\":[\"Q8H081\"],\"uniProtkbId\":\"LBD_ORYSJ\",\"entryAudit\":{\"firstPublicDate\":\"2018-05-23\",\"lastAnno\n",
            "Status code: 200\n",
            "Content-Type: application/json\n",
            "Text preview: {\"results\":[{\"entryType\":\"UniProtKB reviewed (Swiss-Prot)\",\"primaryAccession\":\"Q93YR9\",\"secondaryAccessions\":[\"B2CTE3\",\"B2CTE4\",\"Q9SZW1\"],\"uniProtkbId\":\"ARFP_ARATH\",\"entryAudit\":{\"firstPublicDate\":\"20\n",
            "Status code: 200\n",
            "Content-Type: application/json\n",
            "Text preview: {\"results\":[{\"entryType\":\"UniProtKB reviewed (Swiss-Prot)\",\"primaryAccession\":\"Q9V5M6\",\"secondaryAccessions\":[\"Q058V9\",\"Q4AB07\",\"Q867J5\",\"Q867M8\",\"Q867P1\",\"Q867T8\",\"Q86BC2\",\"Q8MKX4\",\"Q9V5M5\"],\"uniProt\n",
            "Status code: 200\n",
            "Content-Type: application/json\n",
            "Text preview: {\"results\":[{\"entryType\":\"UniProtKB reviewed (Swiss-Prot)\",\"primaryAccession\":\"P38532\",\"secondaryAccessions\":[\"O70462\"],\"uniProtkbId\":\"HSF1_MOUSE\",\"entryAudit\":{\"firstPublicDate\":\"1994-10-01\",\"lastAnn\n",
            "Status code: 200\n",
            "Content-Type: application/json\n",
            "Text preview: {\"results\":[{\"entryType\":\"UniProtKB reviewed (Swiss-Prot)\",\"primaryAccession\":\"O80396\",\"uniProtkbId\":\"M2K3_ARATH\",\"entryAudit\":{\"firstPublicDate\":\"2014-04-16\",\"lastAnnotationUpdateDate\":\"2025-06-18\",\"\n"
          ]
        }
      ],
      "source": [
        "#Execute the get dataset function with desired parameters to get results\n",
        "if __name__ == \"__main__\":\n",
        "    get_dataset(url_neg, extract_fields, output_file,output_fasta_file)"
      ]
    }
  ],
  "metadata": {
    "colab": {
      "provenance": []
    },
    "kernelspec": {
      "display_name": "Python 3 (ipykernel)",
      "language": "python",
      "name": "python3"
    },
    "language_info": {
      "codemirror_mode": {
        "name": "ipython",
        "version": 3
      },
      "file_extension": ".py",
      "mimetype": "text/x-python",
      "name": "python",
      "nbconvert_exporter": "python",
      "pygments_lexer": "ipython3",
      "version": "3.12.9"
    }
  },
  "nbformat": 4,
  "nbformat_minor": 0
}