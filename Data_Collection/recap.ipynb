{
 "cells": [
  {
   "cell_type": "code",
   "execution_count": null,
   "id": "cb2507fd",
   "metadata": {},
   "outputs": [
    {
     "ename": "",
     "evalue": "",
     "output_type": "error",
     "traceback": [
      "\u001b[1;31mRunning cells with 'Python' requires the ipykernel package.\n",
      "\u001b[1;31m<a href='command:jupyter.createPythonEnvAndSelectController'>Create a Python Environment</a> with the required packages.\n",
      "\u001b[1;31mOr install 'ipykernel' using the command: '/home/markus/anaconda3/envs/MP25_env/bin/python -m pip install ipykernel -U --user --force-reinstall'"
     ]
    }
   ],
   "source": [
    "import pandas as pd\n",
    "\n",
    "negative_set = pd.read_csv(\"negative.tsv\", sep=\"\\t\")\n",
    "positive_set = pd.read_csv(\"positive.tsv\", sep=\"\\t\")\n",
    "\n",
    "print(len(positive_dataset.tsv), \"All positives. \")\n",
    "print(len(negative_dataset.tsv), \"All negatives. \")\n",
    "print(len(negative_dataset.tsv[negative_dataset.tsv[\"HelixDomain\"] == True]), \"Negatives with transmembrane within the first 90 residues. \")"
   ]
  }
 ],
 "metadata": {
  "kernelspec": {
   "display_name": "MP25_env",
   "language": "python",
   "name": "python3"
  },
  "language_info": {
   "name": "python",
   "version": "3.7.12"
  }
 },
 "nbformat": 4,
 "nbformat_minor": 5
}
